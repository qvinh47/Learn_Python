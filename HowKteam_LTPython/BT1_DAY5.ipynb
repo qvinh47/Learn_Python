{
 "cells": [
  {
   "attachments": {},
   "cell_type": "markdown",
   "metadata": {},
   "source": [
    "1. Cho danh sách (list) friends =[\"Jen\",\"Jack\",\"Kenny\",\"Jelly\",\"Bob\",\"Henry\",\"Anie\"]\n",
    "    "
   ]
  },
  {
   "attachments": {},
   "cell_type": "markdown",
   "metadata": {},
   "source": [
    "    a. Lấy ra 4 người bạn đầu tiên trong friends"
   ]
  },
  {
   "cell_type": "code",
   "execution_count": 4,
   "metadata": {},
   "outputs": [
    {
     "name": "stdout",
     "output_type": "stream",
     "text": [
      "['Jen', 'Jack', 'Kenny', 'Jelly']\n"
     ]
    }
   ],
   "source": [
    "friends =[\"Jen\",\"Jack\",\"Kenny\",\"Jelly\",\"Bob\",\"Henry\",\"Anie\"]\n",
    "#           0      1     2        3     4       5       6\n",
    "#          -7     -6    -5       -4    -3      -2      -1\n",
    "new_lst = friends[0:4]\n",
    "print(new_lst)"
   ]
  },
  {
   "cell_type": "code",
   "execution_count": 5,
   "metadata": {},
   "outputs": [
    {
     "name": "stdout",
     "output_type": "stream",
     "text": [
      "['Jen', 'Jack', 'Kenny', 'Jelly']\n"
     ]
    }
   ],
   "source": [
    "friends =[\"Jen\",\"Jack\",\"Kenny\",\"Jelly\",\"Bob\",\"Henry\",\"Anie\"]\n",
    "print(friends[:4])"
   ]
  },
  {
   "attachments": {},
   "cell_type": "markdown",
   "metadata": {},
   "source": [
    "    b. Lấy ra 4 người bạn cuối trong friends"
   ]
  },
  {
   "cell_type": "code",
   "execution_count": 6,
   "metadata": {},
   "outputs": [
    {
     "name": "stdout",
     "output_type": "stream",
     "text": [
      "['Jelly', 'Bob', 'Henry', 'Anie']\n"
     ]
    }
   ],
   "source": [
    "print(friends[-4:])"
   ]
  },
  {
   "attachments": {},
   "cell_type": "markdown",
   "metadata": {},
   "source": [
    "    c. Đảo ngược danh sách của friends"
   ]
  },
  {
   "cell_type": "code",
   "execution_count": 14,
   "metadata": {},
   "outputs": [
    {
     "name": "stdout",
     "output_type": "stream",
     "text": [
      "['Anie', 'Henry', 'Bob', 'Jelly', 'Kenny', 'Jack', 'Jen']\n"
     ]
    }
   ],
   "source": [
    "new_lst =  friends[::-1]\n",
    "print(new_lst)"
   ]
  },
  {
   "attachments": {},
   "cell_type": "markdown",
   "metadata": {},
   "source": [
    "    d. Lấy ra những người bạn từ vị trí 1 đến hết"
   ]
  },
  {
   "cell_type": "code",
   "execution_count": 18,
   "metadata": {},
   "outputs": [
    {
     "name": "stdout",
     "output_type": "stream",
     "text": [
      "['Jack', 'Kenny', 'Jelly', 'Bob', 'Henry', 'Anie']\n"
     ]
    }
   ],
   "source": [
    "new_lst = friends[1:]\n",
    "print(new_lst)"
   ]
  },
  {
   "attachments": {},
   "cell_type": "markdown",
   "metadata": {},
   "source": [
    "    e. Copy danh sách band đầu thành 1 danh sách mới"
   ]
  },
  {
   "cell_type": "code",
   "execution_count": 16,
   "metadata": {},
   "outputs": [
    {
     "name": "stdout",
     "output_type": "stream",
     "text": [
      "['Jen', 'Jack', 'Kenny', 'Jelly', 'Bob', 'Henry', 'Anie']\n"
     ]
    }
   ],
   "source": [
    "friends =[\"Jen\",\"Jack\",\"Kenny\",\"Jelly\",\"Bob\",\"Henry\",\"Anie\"]\n",
    "new_lst=friends.copy()\n",
    "print(new_lst)"
   ]
  },
  {
   "cell_type": "code",
   "execution_count": 9,
   "metadata": {},
   "outputs": [
    {
     "name": "stdout",
     "output_type": "stream",
     "text": [
      "True\n",
      "['Jen', 'Jack', 'Kenny', 'Jelly', 'Bob', 'Henry', 'Anie']\n"
     ]
    }
   ],
   "source": [
    "new_lst = friends[:]\n",
    "print(new_lst == friends)\n",
    "print(new_lst)"
   ]
  },
  {
   "attachments": {},
   "cell_type": "markdown",
   "metadata": {},
   "source": [
    "    f. Lấy ra những người bạn từ vị trí 2 đến sát cuối"
   ]
  },
  {
   "cell_type": "code",
   "execution_count": 19,
   "metadata": {},
   "outputs": [
    {
     "name": "stdout",
     "output_type": "stream",
     "text": [
      "['Kenny', 'Jelly', 'Bob', 'Henry']\n"
     ]
    }
   ],
   "source": [
    "new_lst=friends[2:6]\n",
    "print(new_lst)"
   ]
  },
  {
   "cell_type": "code",
   "execution_count": 10,
   "metadata": {},
   "outputs": [
    {
     "name": "stdout",
     "output_type": "stream",
     "text": [
      "['Kenny', 'Jelly', 'Bob', 'Henry']\n"
     ]
    }
   ],
   "source": [
    "print(friends[2:-1])"
   ]
  }
 ],
 "metadata": {
  "kernelspec": {
   "display_name": "venv",
   "language": "python",
   "name": "python3"
  },
  "language_info": {
   "codemirror_mode": {
    "name": "ipython",
    "version": 3
   },
   "file_extension": ".py",
   "mimetype": "text/x-python",
   "name": "python",
   "nbconvert_exporter": "python",
   "pygments_lexer": "ipython3",
   "version": "3.10.6"
  },
  "orig_nbformat": 4
 },
 "nbformat": 4,
 "nbformat_minor": 2
}
