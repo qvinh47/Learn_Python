{
 "cells": [
  {
   "attachments": {},
   "cell_type": "markdown",
   "metadata": {},
   "source": [
    "2. Cho danh sách sinh viên chứa thong tin của mỗi sinh viên [id, tên, tuổi] như sau:\n",
    "    students = [[\"SV01\",\"Bob\",23],[\"SV02\",\"Kenny\",24],[\"SV03\",\"Anie\",25]]"
   ]
  },
  {
   "attachments": {},
   "cell_type": "markdown",
   "metadata": {},
   "source": [
    "    a. Lấy ra thông tin của sinh viên thứ nhất và in ra như định dạng \" id:{}, name:{}, age: {}"
   ]
  },
  {
   "cell_type": "code",
   "execution_count": 21,
   "metadata": {},
   "outputs": [
    {
     "name": "stdout",
     "output_type": "stream",
     "text": [
      "ID: SV01 , Name: Bob - Age: 23\n"
     ]
    }
   ],
   "source": [
    "students = [[\"SV01\",\"Bob\",23],[\"SV02\",\"Kenny\",24],[\"SV03\",\"Anie\",25]]\n",
    "sv1 = students[0]\n",
    "id = sv1[0]\n",
    "name = sv1[1]\n",
    "age = sv1[2]\n",
    "print(\"ID:\",id,\",\",\"Name:\",name,\"-\",\"Age:\",age)"
   ]
  },
  {
   "attachments": {},
   "cell_type": "markdown",
   "metadata": {},
   "source": [
    "    b. Lấy ra tuổi của sinh viên thứ hai"
   ]
  },
  {
   "cell_type": "code",
   "execution_count": 14,
   "metadata": {},
   "outputs": [
    {
     "name": "stdout",
     "output_type": "stream",
     "text": [
      "24\n"
     ]
    }
   ],
   "source": [
    "sv2 = students[1]\n",
    "age = sv2[2]\n",
    "print(age)"
   ]
  },
  {
   "cell_type": "code",
   "execution_count": 23,
   "metadata": {},
   "outputs": [
    {
     "name": "stdout",
     "output_type": "stream",
     "text": [
      "Thông tin của sinh viên thứ hai: ['SV02', 'Kenny', 24]\n",
      "Tuổi của sinh viên thứ hai: 24\n"
     ]
    }
   ],
   "source": [
    "sv2 = students[1]\n",
    "sv2_age = sv2[2]\n",
    "print (\"Thông tin của sinh viên thứ hai:\", sv2)\n",
    "print (\"Tuổi của sinh viên thứ hai:\",sv2_age)"
   ]
  },
  {
   "attachments": {},
   "cell_type": "markdown",
   "metadata": {},
   "source": [
    "    c. Lấy ra thông tin của hai sinh viên cuối cùng"
   ]
  },
  {
   "cell_type": "code",
   "execution_count": 17,
   "metadata": {},
   "outputs": [
    {
     "name": "stdout",
     "output_type": "stream",
     "text": [
      "[['SV02', 'Kenny', 24], ['SV03', 'Anie', 25]]\n"
     ]
    }
   ],
   "source": [
    "haisvcuoi = students[1:3]\n",
    "print(haisvcuoi)"
   ]
  },
  {
   "cell_type": "code",
   "execution_count": 24,
   "metadata": {},
   "outputs": [
    {
     "name": "stdout",
     "output_type": "stream",
     "text": [
      "[['SV02', 'Kenny', 24], ['SV03', 'Anie', 25]]\n"
     ]
    }
   ],
   "source": [
    "new_students = students[-2:]\n",
    "print(new_students)"
   ]
  },
  {
   "attachments": {},
   "cell_type": "markdown",
   "metadata": {},
   "source": [
    "    d. Lấy ra id của sinh viên thứ 3"
   ]
  },
  {
   "cell_type": "code",
   "execution_count": 26,
   "metadata": {},
   "outputs": [
    {
     "name": "stdout",
     "output_type": "stream",
     "text": [
      "SV03\n"
     ]
    }
   ],
   "source": [
    "id = students[2][0]\n",
    " #or students[-1][0]\n",
    "print(id)"
   ]
  }
 ],
 "metadata": {
  "kernelspec": {
   "display_name": "venv",
   "language": "python",
   "name": "python3"
  },
  "language_info": {
   "codemirror_mode": {
    "name": "ipython",
    "version": 3
   },
   "file_extension": ".py",
   "mimetype": "text/x-python",
   "name": "python",
   "nbconvert_exporter": "python",
   "pygments_lexer": "ipython3",
   "version": "3.10.6"
  },
  "orig_nbformat": 4
 },
 "nbformat": 4,
 "nbformat_minor": 2
}
